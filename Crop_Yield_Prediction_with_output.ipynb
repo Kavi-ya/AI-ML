{
 "cells": [
  {
   "cell_type": "markdown",
   "metadata": {},
   "source": [
    "# Crop Yield Prediction\n",
    "\n",
    "This notebook walks through the process of building a machine learning model to predict crop yield based on various factors like location, weather, and agricultural inputs."
   ]
  },
  {
   "cell_type": "markdown",
   "metadata": {},
   "source": [
    "## 1. Setup\n",
    "\n",
    "First, let's install the necessary libraries."
   ]
  },
  {
   "cell_type": "code",
   "execution_count": 1,
   "metadata": {
    "execution": {
     "iopub.execute_input": "2025-08-07T17:10:08.308905Z",
     "iopub.status.busy": "2025-08-07T17:10:08.308498Z",
     "iopub.status.idle": "2025-08-07T17:10:10.680471Z",
     "shell.execute_reply": "2025-08-07T17:10:10.675151Z"
    }
   },
   "outputs": [
    {
     "name": "stdout",
     "output_type": "stream",
     "text": [
      "Requirement already satisfied: pandas in /home/jules/.pyenv/versions/3.12.11/lib/python3.12/site-packages (2.3.1)\r\n",
      "Requirement already satisfied: scikit-learn in /home/jules/.pyenv/versions/3.12.11/lib/python3.12/site-packages (1.7.1)\r\n",
      "Requirement already satisfied: numpy>=1.26.0 in /home/jules/.pyenv/versions/3.12.11/lib/python3.12/site-packages (from pandas) (2.3.2)"
     ]
    },
    {
     "name": "stdout",
     "output_type": "stream",
     "text": [
      "\r\n",
      "Requirement already satisfied: python-dateutil>=2.8.2 in /home/jules/.pyenv/versions/3.12.11/lib/python3.12/site-packages (from pandas) (2.9.0.post0)\r\n",
      "Requirement already satisfied: pytz>=2020.1 in /home/jules/.pyenv/versions/3.12.11/lib/python3.12/site-packages (from pandas) (2025.2)\r\n",
      "Requirement already satisfied: tzdata>=2022.7 in /home/jules/.pyenv/versions/3.12.11/lib/python3.12/site-packages (from pandas) (2025.2)\r\n",
      "Requirement already satisfied: scipy>=1.8.0 in /home/jules/.pyenv/versions/3.12.11/lib/python3.12/site-packages (from scikit-learn) (1.16.1)\r\n",
      "Requirement already satisfied: joblib>=1.2.0 in /home/jules/.pyenv/versions/3.12.11/lib/python3.12/site-packages (from scikit-learn) (1.5.1)\r\n",
      "Requirement already satisfied: threadpoolctl>=3.1.0 in /home/jules/.pyenv/versions/3.12.11/lib/python3.12/site-packages (from scikit-learn) (3.6.0)\r\n"
     ]
    },
    {
     "name": "stdout",
     "output_type": "stream",
     "text": [
      "Requirement already satisfied: six>=1.5 in /home/jules/.pyenv/versions/3.12.11/lib/python3.12/site-packages (from python-dateutil>=2.8.2->pandas) (1.17.0)\r\n"
     ]
    },
    {
     "name": "stdout",
     "output_type": "stream",
     "text": [
      "\r\n",
      "\u001b[1m[\u001b[0m\u001b[34;49mnotice\u001b[0m\u001b[1;39;49m]\u001b[0m\u001b[39;49m A new release of pip is available: \u001b[0m\u001b[31;49m25.1.1\u001b[0m\u001b[39;49m -> \u001b[0m\u001b[32;49m25.2\u001b[0m\r\n",
      "\u001b[1m[\u001b[0m\u001b[34;49mnotice\u001b[0m\u001b[1;39;49m]\u001b[0m\u001b[39;49m To update, run: \u001b[0m\u001b[32;49mpip install --upgrade pip\u001b[0m\r\n"
     ]
    }
   ],
   "source": [
    "!pip install pandas scikit-learn"
   ]
  },
  {
   "cell_type": "markdown",
   "metadata": {},
   "source": [
    "## 2. Data Loading and Exploratory Data Analysis (EDA)\n",
    "\n",
    "Now, we'll load the dataset and perform some initial analysis to understand its structure and properties."
   ]
  },
  {
   "cell_type": "code",
   "execution_count": 2,
   "metadata": {
    "execution": {
     "iopub.execute_input": "2025-08-07T17:10:10.693900Z",
     "iopub.status.busy": "2025-08-07T17:10:10.692901Z",
     "iopub.status.idle": "2025-08-07T17:10:12.272262Z",
     "shell.execute_reply": "2025-08-07T17:10:12.270202Z"
    }
   },
   "outputs": [
    {
     "name": "stdout",
     "output_type": "stream",
     "text": [
      "First 5 rows of the dataset:\n",
      "   Unnamed: 0     Area         Item  Year  hg/ha_yield  \\\n",
      "0           0  Albania        Maize  1990        36613   \n",
      "1           1  Albania     Potatoes  1990        66667   \n",
      "2           2  Albania  Rice, paddy  1990        23333   \n",
      "3           3  Albania      Sorghum  1990        12500   \n",
      "4           4  Albania     Soybeans  1990         7000   \n",
      "\n",
      "   average_rain_fall_mm_per_year  pesticides_tonnes  avg_temp  \n",
      "0                         1485.0              121.0     16.37  \n",
      "1                         1485.0              121.0     16.37  \n",
      "2                         1485.0              121.0     16.37  \n",
      "3                         1485.0              121.0     16.37  \n",
      "4                         1485.0              121.0     16.37  \n",
      "\n",
      "Dataset Info:\n",
      "<class 'pandas.core.frame.DataFrame'>\n",
      "RangeIndex: 28242 entries, 0 to 28241\n",
      "Data columns (total 8 columns):\n",
      " #   Column                         Non-Null Count  Dtype  \n",
      "---  ------                         --------------  -----  \n",
      " 0   Unnamed: 0                     28242 non-null  int64  \n",
      " 1   Area                           28242 non-null  object \n",
      " 2   Item                           28242 non-null  object \n",
      " 3   Year                           28242 non-null  int64  \n",
      " 4   hg/ha_yield                    28242 non-null  int64  \n",
      " 5   average_rain_fall_mm_per_year  28242 non-null  float64\n",
      " 6   pesticides_tonnes              28242 non-null  float64\n",
      " 7   avg_temp                       28242 non-null  float64\n",
      "dtypes: float64(3), int64(3), object(2)\n",
      "memory usage: 1.7+ MB\n",
      "\n",
      "Summary Statistics:\n",
      "         Unnamed: 0          Year    hg/ha_yield  \\\n",
      "count  28242.000000  28242.000000   28242.000000   \n",
      "mean   14120.500000   2001.544296   77053.332094   \n",
      "std     8152.907488      7.051905   84956.612897   \n",
      "min        0.000000   1990.000000      50.000000   \n",
      "25%     7060.250000   1995.000000   19919.250000   \n",
      "50%    14120.500000   2001.000000   38295.000000   \n",
      "75%    21180.750000   2008.000000  104676.750000   \n",
      "max    28241.000000   2013.000000  501412.000000   \n",
      "\n",
      "       average_rain_fall_mm_per_year  pesticides_tonnes      avg_temp  \n",
      "count                    28242.00000       28242.000000  28242.000000  \n",
      "mean                      1149.05598       37076.909344     20.542627  \n",
      "std                        709.81215       59958.784665      6.312051  \n",
      "min                         51.00000           0.040000      1.300000  \n",
      "25%                        593.00000        1702.000000     16.702500  \n",
      "50%                       1083.00000       17529.440000     21.510000  \n",
      "75%                       1668.00000       48687.880000     26.000000  \n",
      "max                       3240.00000      367778.000000     30.650000  \n",
      "\n",
      "Missing Values:\n",
      "Unnamed: 0                       0\n",
      "Area                             0\n",
      "Item                             0\n",
      "Year                             0\n",
      "hg/ha_yield                      0\n",
      "average_rain_fall_mm_per_year    0\n",
      "pesticides_tonnes                0\n",
      "avg_temp                         0\n",
      "dtype: int64\n"
     ]
    }
   ],
   "source": [
    "import pandas as pd\n",
    "\n",
    "# Load the dataset\n",
    "file_path = \"data/yield_df.csv\"\n",
    "df = pd.read_csv(file_path)\n",
    "\n",
    "# Display the first few rows\n",
    "print(\"First 5 rows of the dataset:\")\n",
    "print(df.head())\n",
    "\n",
    "# Display dataset information\n",
    "print(\"\\nDataset Info:\")\n",
    "df.info()\n",
    "\n",
    "# Display summary statistics\n",
    "print(\"\\nSummary Statistics:\")\n",
    "print(df.describe())\n",
    "\n",
    "# Check for missing values\n",
    "print(\"\\nMissing Values:\")\n",
    "print(df.isnull().sum())"
   ]
  },
  {
   "cell_type": "markdown",
   "metadata": {},
   "source": [
    "## 3. Preprocessing and Feature Engineering\n",
    "\n",
    "Next, we'll preprocess the data to prepare it for model training. This includes dropping unnecessary columns and converting categorical features into a numerical format using one-hot encoding."
   ]
  },
  {
   "cell_type": "code",
   "execution_count": 3,
   "metadata": {
    "execution": {
     "iopub.execute_input": "2025-08-07T17:10:12.283047Z",
     "iopub.status.busy": "2025-08-07T17:10:12.282497Z",
     "iopub.status.idle": "2025-08-07T17:10:12.346637Z",
     "shell.execute_reply": "2025-08-07T17:10:12.344965Z"
    }
   },
   "outputs": [
    {
     "name": "stdout",
     "output_type": "stream",
     "text": [
      "Shape of the processed dataframe: (28242, 114)\n",
      "First 5 rows of the processed dataframe:\n",
      "   Year  hg/ha_yield  average_rain_fall_mm_per_year  pesticides_tonnes  \\\n",
      "0  1990        36613                         1485.0              121.0   \n",
      "1  1990        66667                         1485.0              121.0   \n",
      "2  1990        23333                         1485.0              121.0   \n",
      "3  1990        12500                         1485.0              121.0   \n",
      "4  1990         7000                         1485.0              121.0   \n",
      "\n",
      "   avg_temp  Area_Algeria  Area_Angola  Area_Argentina  Area_Armenia  \\\n",
      "0     16.37         False        False           False         False   \n",
      "1     16.37         False        False           False         False   \n",
      "2     16.37         False        False           False         False   \n",
      "3     16.37         False        False           False         False   \n",
      "4     16.37         False        False           False         False   \n",
      "\n",
      "   Area_Australia  ...  Area_Zimbabwe  Item_Maize  Item_Plantains and others  \\\n",
      "0           False  ...          False        True                      False   \n",
      "1           False  ...          False       False                      False   \n",
      "2           False  ...          False       False                      False   \n",
      "3           False  ...          False       False                      False   \n",
      "4           False  ...          False       False                      False   \n",
      "\n",
      "   Item_Potatoes  Item_Rice, paddy  Item_Sorghum  Item_Soybeans  \\\n",
      "0          False             False         False          False   \n",
      "1           True             False         False          False   \n",
      "2          False              True         False          False   \n",
      "3          False             False          True          False   \n",
      "4          False             False         False           True   \n",
      "\n",
      "   Item_Sweet potatoes  Item_Wheat  Item_Yams  \n",
      "0                False       False      False  \n",
      "1                False       False      False  \n",
      "2                False       False      False  \n",
      "3                False       False      False  \n",
      "4                False       False      False  \n",
      "\n",
      "[5 rows x 114 columns]\n"
     ]
    }
   ],
   "source": [
    "# Drop the 'Unnamed: 0' column if it exists\n",
    "if 'Unnamed: 0' in df.columns:\n",
    "    df = df.drop('Unnamed: 0', axis=1)\n",
    "\n",
    "# One-hot encode categorical features\n",
    "df_processed = pd.get_dummies(df, columns=['Area', 'Item'], drop_first=True)\n",
    "\n",
    "print(\"Shape of the processed dataframe:\", df_processed.shape)\n",
    "print(\"First 5 rows of the processed dataframe:\")\n",
    "print(df_processed.head())"
   ]
  },
  {
   "cell_type": "markdown",
   "metadata": {},
   "source": [
    "## 4. Model Training and Evaluation\n",
    "\n",
    "Now we'll split the data into training and testing sets, train a Linear Regression model, and evaluate its performance."
   ]
  },
  {
   "cell_type": "code",
   "execution_count": 4,
   "metadata": {
    "execution": {
     "iopub.execute_input": "2025-08-07T17:10:12.361670Z",
     "iopub.status.busy": "2025-08-07T17:10:12.361017Z",
     "iopub.status.idle": "2025-08-07T17:10:15.811767Z",
     "shell.execute_reply": "2025-08-07T17:10:15.810615Z"
    }
   },
   "outputs": [
    {
     "name": "stdout",
     "output_type": "stream",
     "text": [
      "Training the model...\n"
     ]
    },
    {
     "name": "stdout",
     "output_type": "stream",
     "text": [
      "Model training complete.\n",
      "\n",
      "Evaluating the model...\n",
      "R-squared: 0.7551\n",
      "Mean Absolute Error: 29582.4950\n"
     ]
    }
   ],
   "source": [
    "from sklearn.model_selection import train_test_split\n",
    "from sklearn.linear_model import LinearRegression\n",
    "from sklearn.metrics import r2_score, mean_absolute_error\n",
    "\n",
    "# Split data into features (X) and target (y)\n",
    "X = df_processed.drop('hg/ha_yield', axis=1)\n",
    "y = df_processed['hg/ha_yield']\n",
    "\n",
    "# Split data into training and testing sets\n",
    "X_train, X_test, y_train, y_test = train_test_split(X, y, test_size=0.2, random_state=42)\n",
    "\n",
    "# Model Training\n",
    "print(\"Training the model...\")\n",
    "model = LinearRegression()\n",
    "model.fit(X_train, y_train)\n",
    "print(\"Model training complete.\")\n",
    "\n",
    "# Model Evaluation\n",
    "print(\"\\nEvaluating the model...\")\n",
    "y_pred = model.predict(X_test)\n",
    "r2 = r2_score(y_test, y_pred)\n",
    "mae = mean_absolute_error(y_test, y_pred)\n",
    "\n",
    "print(f\"R-squared: {r2:.4f}\")\n",
    "print(f\"Mean Absolute Error: {mae:.4f}\")"
   ]
  }
 ],
 "metadata": {
  "kernelspec": {
   "display_name": "Python 3",
   "language": "python",
   "name": "python3"
  },
  "language_info": {
   "codemirror_mode": {
    "name": "ipython",
    "version": 3
   },
   "file_extension": ".py",
   "mimetype": "text/x-python",
   "name": "python",
   "nbconvert_exporter": "python",
   "pygments_lexer": "ipython3",
   "version": "3.12.11"
  }
 },
 "nbformat": 4,
 "nbformat_minor": 2
}
